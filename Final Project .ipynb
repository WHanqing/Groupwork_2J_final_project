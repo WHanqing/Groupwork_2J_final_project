{
 "cells": [
  {
   "cell_type": "markdown",
   "metadata": {},
   "source": [
    "# <div style='text-align: center;'> Python applications in Finance </div>\n",
    "\n",
    "## <div style='text-align: center;'> MSc Corporate Finance 2023/2024 - Neoma Business School </div>\n",
    "\n",
    "<center>\n",
    "\n",
    "<img src=\"https://upload.wikimedia.org/wikipedia/commons/9/97/NEOMA_LOGOTYPE_RVB.jpg\" style=\"height: 100px;\"/>\n",
    "\n",
    "</center>"
   ]
  },
  {
   "cell_type": "markdown",
   "metadata": {},
   "source": [
    "## **Python Project:**\n",
    "<br>\n",
    "\n",
    "***\n",
    "\n",
    "### **Activity 1:**\n",
    "\n",
    "*You were hired as a Data Analyst thanks to your skills and background. You were involved in a project that requires to analyze some data regarding the employees of a company.*\n",
    "\n",
    "*After understanding the objective of the project, you start defining the data you will need and how would you get this data (the sources, the costs, etc.).*\n",
    "\n",
    "*Finally, you obtain the data as a* ***.csv*** *file stored in the following path:*\n",
    "\n",
    ">* *https://raw.githubusercontent.com/cvfranco/DataSetPython/main/Company_Data_STUDENTS.csv*\n",
    "\n",
    ">* *If the path doesn't work import it from your computer, the file is in courses too.*\n",
    "\n",
    "*After importing the data using pandas, you notice that there are some Data Preparation tasks to perform before being able to use the dataset for further analysis*\n",
    "\n",
    "*You are required to:*\n",
    "\n",
    "* *Import the data.*\n",
    "* *Perform the Data Preparation tasks you consider appropriate.*\n",
    "* *To improve your analysis later you require somme new features. Based on what you know, and following the companies variable compensation policy, determine the variable compensation for each employee.*\n",
    "\n",
    "<center>\n",
    "\n",
    "| Performance Score | Current Employee Rating | % of Annual Gross Fixed Salary |\n",
    "| :----: | :---: | :---: |\n",
    "| Exceeds | 1 | 20% |\n",
    "| Exceeds | 2, 3 | 15% |\n",
    "| Exceeds | 4, 5 | 10% |\n",
    "| Fully Meets | 1 | 15% |\n",
    "| Fully Meets | 2, 3 | 10% |\n",
    "| Fully Meets | 4, 5 | 5% |\n",
    "| Needs Improvement | 1, 2, 3 | 10% |\n",
    "| Needs Improvement | 4, 5 | 5% |\n",
    "| PIP (Performance Improvement Plan) | 1, 2, 3, 4 | 3% |\n",
    "\n",
    "</center>\n",
    "\n",
    "<br>\n",
    "\n",
    "***\n"
   ]
  },
  {
   "cell_type": "markdown",
   "metadata": {},
   "source": [
    "<br>\n",
    "\n",
    "***\n",
    "\n",
    "### **Activity 2:**\n",
    "\n",
    "*You were hired as a Data Analyst thanks to your skills and background. You were involved in a project that requires to analyze Macroeconomic World Data.*\n",
    "\n",
    "*After understanding the objective of the project, you start defining the data you will need and how would you get this data (the sources, the costs, etc.).*\n",
    "\n",
    "*Finally, you obtain the data as a* ***.csv*** *file stored in the following path:*\n",
    "\n",
    ">* *https://raw.githubusercontent.com/cvfranco/DataSetPython/main/World_Data_2023_STUDENTS.csv*\n",
    "\n",
    ">* *If the path doesn't work import it from your computer, the file is in courses too.*\n",
    "\n",
    "\n",
    "*You are required to:*\n",
    "\n",
    "* *Import the data.*\n",
    "* *Perform the Data Preparation tasks you consider appropriate.*\n",
    "* *Explore the Data and define a study question.* \n",
    "* *Use the Data Visualization tools you already know to conclude on your study.*\n",
    "\n",
    "<br>\n",
    "\n",
    "***"
   ]
  }
 ],
 "metadata": {
  "kernelspec": {
   "display_name": "Python 3",
   "language": "python",
   "name": "python3"
  },
  "language_info": {
   "codemirror_mode": {
    "name": "ipython",
    "version": 3
   },
   "file_extension": ".py",
   "mimetype": "text/x-python",
   "name": "python",
   "nbconvert_exporter": "python",
   "pygments_lexer": "ipython3",
   "version": "3.10.11"
  }
 },
 "nbformat": 4,
 "nbformat_minor": 4
}
